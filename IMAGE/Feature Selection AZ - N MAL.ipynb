{
 "cells": [
  {
   "cell_type": "markdown",
   "metadata": {},
   "source": [
    "# Goal\n",
    "Take rows (all mal + twice num Benign)\n",
    "\n",
    "SVM all features and find coeffs\n",
    "\n",
    "take all +ve and -Ve coeffs\n",
    "\n",
    "Sum by col\n",
    "\n",
    "    take col if it appears a certain number of times\n",
    "\n",
    "Find num ben_cols and mal_cols.\n",
    "    \n",
    "    Balance them to an extent => based on lowest appearances"
   ]
  },
  {
   "cell_type": "markdown",
   "metadata": {},
   "source": [
    "# Load Data and conv as NP Arrays"
   ]
  },
  {
   "cell_type": "code",
   "execution_count": 1,
   "metadata": {},
   "outputs": [],
   "source": [
    "import json"
   ]
  },
  {
   "cell_type": "code",
   "execution_count": 2,
   "metadata": {},
   "outputs": [],
   "source": [
    "with open(\"./AZ_DATA/apg-X.json\", 'rt') as f:\n",
    "    X_org = json.load(f)\n",
    "with open(\"./AZ_DATA/apg-y.json\", 'rt') as f:\n",
    "    y_org = json.load(f)\n",
    "with open(\"./AZ_DATA/apg-meta.json\", 'rt') as f:\n",
    "    meta_org = json.load(f)"
   ]
  },
  {
   "cell_type": "code",
   "execution_count": 3,
   "metadata": {},
   "outputs": [],
   "source": [
    "from sklearn.feature_extraction import DictVectorizer"
   ]
  },
  {
   "cell_type": "code",
   "execution_count": 4,
   "metadata": {},
   "outputs": [
    {
     "data": {
      "text/plain": [
       "1537062"
      ]
     },
     "execution_count": 4,
     "metadata": {},
     "output_type": "execute_result"
    }
   ],
   "source": [
    "vec = DictVectorizer()\n",
    "X_full = vec.fit_transform(X_org)\n",
    "y_full = y_org\n",
    "featureList_org = vec.get_feature_names()\n",
    "len(featureList_org)"
   ]
  },
  {
   "cell_type": "code",
   "execution_count": 5,
   "metadata": {},
   "outputs": [],
   "source": [
    "import numpy as np"
   ]
  },
  {
   "cell_type": "code",
   "execution_count": 6,
   "metadata": {},
   "outputs": [],
   "source": [
    "y_full = np.asarray(y_full).reshape(-1,1)"
   ]
  },
  {
   "cell_type": "code",
   "execution_count": 7,
   "metadata": {},
   "outputs": [
    {
     "data": {
      "text/plain": [
       "(array([0, 1]), array([135859,  15778], dtype=int64))"
      ]
     },
     "execution_count": 7,
     "metadata": {},
     "output_type": "execute_result"
    }
   ],
   "source": [
    "np.unique(y_full,return_counts=True)"
   ]
  },
  {
   "cell_type": "code",
   "execution_count": 8,
   "metadata": {},
   "outputs": [
    {
     "data": {
      "text/plain": [
       "(151637, 1537062)"
      ]
     },
     "execution_count": 8,
     "metadata": {},
     "output_type": "execute_result"
    }
   ],
   "source": [
    "X_full.shape"
   ]
  },
  {
   "cell_type": "code",
   "execution_count": 9,
   "metadata": {},
   "outputs": [],
   "source": [
    "meta_org = np.asarray(meta_org).reshape(-1,1)[:,0]"
   ]
  },
  {
   "cell_type": "code",
   "execution_count": 10,
   "metadata": {},
   "outputs": [
    {
     "name": "stdout",
     "output_type": "stream",
     "text": [
      "{'sha256': '0000003B455A6C7AF837EF90F2EAFFD856E3B5CF49F5E27191430328DE2FA670', 'sha1': '9C14D537A7ADB4CFC43D291352F73E05E0CCDD4A', 'md5': '3EDFC78AB53521942798AD551027D04F', 'dex_date': 1459879126, 'apk_size': 10386469, 'pkg_name': 'com.zte.bamachaye', 'vercode': '121', 'vt_detection': 0, 'vt_scan_date': 1466004404, 'dex_size': 4765888, 'markets': 'anzhi', 'dex_date_quarter': '2016-Q2', 'user_id': 1, 'sample_path': '/media/nas/datasets/android/samples/Androzoo/0/0/0/0000003B455A6C7AF837EF90F2EAFFD856E3B5CF49F5E27191430328DE2FA670.apk', 'submission_date': 1519654338, 'tags': ['androzoo', '2016-h1'], 'analysis_engines': ['drebin'], 'year': 2016, 'month': 4, 'day': 5}\n",
      "None\n",
      "['activities::#1 Password Generator', 'activities::#Trend', 'activities::$$Classpath:android_alibaba_image_base_ImageUtilInterface', 'activities::$$Classpath:com_alibaba_intl_android_attach_base_AttachManagerInterface', 'activities::$$Classpath:com_alibaba_intl_android_i18n_base_LanguageInterface', 'activities::$Viewer', \"activities::'Progressive' Pools\", 'activities::* HPROF', 'activities::*/*', 'activities::+@string/title_activity_mechantlist2']\n"
     ]
    }
   ],
   "source": [
    "print(print(meta_org[0]))\n",
    "print(featureList_org[0:10])"
   ]
  },
  {
   "cell_type": "markdown",
   "metadata": {},
   "source": [
    "# Select Data"
   ]
  },
  {
   "cell_type": "code",
   "execution_count": 11,
   "metadata": {},
   "outputs": [
    {
     "name": "stdout",
     "output_type": "stream",
     "text": [
      "135859 15778\n"
     ]
    }
   ],
   "source": [
    "ben = []\n",
    "mal = []\n",
    "for i in range(len(y_full)):\n",
    "    if y_full[i]==0:\n",
    "        ben.append(i)\n",
    "    else:\n",
    "        mal.append(i)\n",
    "print(len(ben),len(mal))"
   ]
  },
  {
   "cell_type": "markdown",
   "metadata": {},
   "source": [
    "### Select Random ChosenNumber Malware rows and 2xChosenNumber Benign rows"
   ]
  },
  {
   "cell_type": "code",
   "execution_count": 12,
   "metadata": {},
   "outputs": [],
   "source": [
    "ChosenNumber = 5000"
   ]
  },
  {
   "cell_type": "code",
   "execution_count": 13,
   "metadata": {},
   "outputs": [],
   "source": [
    "import random"
   ]
  },
  {
   "cell_type": "code",
   "execution_count": 14,
   "metadata": {},
   "outputs": [
    {
     "data": {
      "text/plain": [
       "[66527, 113950, 64906, 3341, 114672]"
      ]
     },
     "execution_count": 14,
     "metadata": {},
     "output_type": "execute_result"
    }
   ],
   "source": [
    "mal_list = []\n",
    "mal_list = random.sample(mal,ChosenNumber)\n",
    "mal_list[:5]"
   ]
  },
  {
   "cell_type": "code",
   "execution_count": 15,
   "metadata": {},
   "outputs": [
    {
     "data": {
      "text/plain": [
       "[81853, 131023, 64898, 145484, 67179]"
      ]
     },
     "execution_count": 15,
     "metadata": {},
     "output_type": "execute_result"
    }
   ],
   "source": [
    "ben_list = []\n",
    "ben_list = random.sample(ben,2*ChosenNumber)\n",
    "ben_list[:5]"
   ]
  },
  {
   "cell_type": "code",
   "execution_count": 16,
   "metadata": {},
   "outputs": [
    {
     "name": "stdout",
     "output_type": "stream",
     "text": [
      "(15000, 1537062) (15000, 1) (15000,)\n",
      "(array([0, 1]), array([10000,  5000], dtype=int64))\n"
     ]
    }
   ],
   "source": [
    "chosen = mal_list + ben_list\n",
    "chosen.sort()\n",
    "X = X_full[chosen]\n",
    "y = y_full[chosen]\n",
    "meta = meta_org[chosen]\n",
    "print(X.shape,y.shape,meta.shape)\n",
    "print(np.unique(y,return_counts=True))"
   ]
  },
  {
   "cell_type": "markdown",
   "metadata": {},
   "source": [
    "# SVM"
   ]
  },
  {
   "cell_type": "markdown",
   "metadata": {},
   "source": [
    "# Train Test Split"
   ]
  },
  {
   "cell_type": "code",
   "execution_count": 17,
   "metadata": {},
   "outputs": [],
   "source": [
    "from sklearn.model_selection import train_test_split\n",
    "import random"
   ]
  },
  {
   "cell_type": "code",
   "execution_count": 18,
   "metadata": {},
   "outputs": [],
   "source": [
    "random_state = random.randint(0, 1000)"
   ]
  },
  {
   "cell_type": "code",
   "execution_count": 19,
   "metadata": {},
   "outputs": [],
   "source": [
    "train_idxs, test_idxs = train_test_split(\n",
    "            range(X.shape[0]),\n",
    "            stratify=y,\n",
    "            test_size=0.33333,\n",
    "            random_state=random_state)"
   ]
  },
  {
   "cell_type": "code",
   "execution_count": 20,
   "metadata": {},
   "outputs": [
    {
     "name": "stdout",
     "output_type": "stream",
     "text": [
      "10000 5000\n"
     ]
    }
   ],
   "source": [
    "print(len(train_idxs),len(test_idxs))"
   ]
  },
  {
   "cell_type": "code",
   "execution_count": 21,
   "metadata": {},
   "outputs": [],
   "source": [
    "X_train1 = X[train_idxs]\n",
    "X_test1 = X[test_idxs]\n",
    "y_train1 = y[train_idxs]\n",
    "y_test1 = y[test_idxs]\n",
    "m_train1 = [meta[i] for i in train_idxs]\n",
    "m_test1 = [meta[i] for i in test_idxs]"
   ]
  },
  {
   "cell_type": "code",
   "execution_count": 22,
   "metadata": {},
   "outputs": [
    {
     "data": {
      "text/plain": [
       "(10000, 1537062)"
      ]
     },
     "execution_count": 22,
     "metadata": {},
     "output_type": "execute_result"
    }
   ],
   "source": [
    "X_train1.shape"
   ]
  },
  {
   "cell_type": "code",
   "execution_count": 23,
   "metadata": {},
   "outputs": [
    {
     "data": {
      "text/plain": [
       "(10000, 1)"
      ]
     },
     "execution_count": 23,
     "metadata": {},
     "output_type": "execute_result"
    }
   ],
   "source": [
    "y_train1.shape"
   ]
  },
  {
   "cell_type": "code",
   "execution_count": 24,
   "metadata": {},
   "outputs": [
    {
     "name": "stdout",
     "output_type": "stream",
     "text": [
      "(array([0, 1]), array([6667, 3333], dtype=int64))\n"
     ]
    }
   ],
   "source": [
    "print(np.unique(y_train1,return_counts=True))"
   ]
  },
  {
   "cell_type": "code",
   "execution_count": 25,
   "metadata": {},
   "outputs": [
    {
     "name": "stdout",
     "output_type": "stream",
     "text": [
      "(array([0, 1]), array([3333, 1667], dtype=int64))\n"
     ]
    }
   ],
   "source": [
    "print(np.unique(y_test1,return_counts=True))"
   ]
  },
  {
   "cell_type": "markdown",
   "metadata": {},
   "source": [
    "# Linear SVC to find ben and Mal Rows"
   ]
  },
  {
   "cell_type": "code",
   "execution_count": 26,
   "metadata": {},
   "outputs": [],
   "source": [
    "from sklearn.svm import LinearSVC"
   ]
  },
  {
   "cell_type": "code",
   "execution_count": 27,
   "metadata": {},
   "outputs": [
    {
     "name": "stderr",
     "output_type": "stream",
     "text": [
      "C:\\Users\\Pitch\\.conda\\envs\\tf1-gpu\\lib\\site-packages\\sklearn\\utils\\validation.py:72: DataConversionWarning: A column-vector y was passed when a 1d array was expected. Please change the shape of y to (n_samples, ), for example using ravel().\n",
      "  return f(**kwargs)\n",
      "C:\\Users\\Pitch\\.conda\\envs\\tf1-gpu\\lib\\site-packages\\sklearn\\svm\\_base.py:977: ConvergenceWarning: Liblinear failed to converge, increase the number of iterations.\n",
      "  \"the number of iterations.\", ConvergenceWarning)\n"
     ]
    },
    {
     "data": {
      "text/plain": [
       "LinearSVC(C=2)"
      ]
     },
     "execution_count": 27,
     "metadata": {},
     "output_type": "execute_result"
    }
   ],
   "source": [
    "selector = LinearSVC(C=2)\n",
    "selector.fit(X, y)"
   ]
  },
  {
   "cell_type": "code",
   "execution_count": 28,
   "metadata": {},
   "outputs": [
    {
     "data": {
      "text/plain": [
       "15000"
      ]
     },
     "execution_count": 28,
     "metadata": {},
     "output_type": "execute_result"
    }
   ],
   "source": [
    "len(y)"
   ]
  },
  {
   "cell_type": "code",
   "execution_count": 29,
   "metadata": {},
   "outputs": [
    {
     "data": {
      "text/plain": [
       "LinearSVC(C=2)"
      ]
     },
     "execution_count": 29,
     "metadata": {},
     "output_type": "execute_result"
    }
   ],
   "source": [
    "selector"
   ]
  },
  {
   "cell_type": "code",
   "execution_count": 30,
   "metadata": {},
   "outputs": [
    {
     "name": "stdout",
     "output_type": "stream",
     "text": [
      "46286 42608 1448168\n",
      "88894\n"
     ]
    }
   ],
   "source": [
    "cols1 = np.argsort(selector.coef_[0])[::-1]\n",
    "p = n = z = 0\n",
    "cols2 = []\n",
    "for i in cols1:\n",
    "    if selector.coef_[0][i] < 0:\n",
    "        n+=1\n",
    "        cols2.append(i)\n",
    "    elif selector.coef_[0][i] > 0:\n",
    "        p+=1\n",
    "        cols2.append(i)\n",
    "    else:\n",
    "        z+=1\n",
    "print(p,n,z)\n",
    "print(len(cols2))"
   ]
  },
  {
   "cell_type": "code",
   "execution_count": 31,
   "metadata": {},
   "outputs": [
    {
     "data": {
      "text/plain": [
       "[<matplotlib.lines.Line2D at 0x1f51a04c048>]"
      ]
     },
     "execution_count": 31,
     "metadata": {},
     "output_type": "execute_result"
    },
    {
     "data": {
      "image/png": "[encoded data removed]",
      "text/plain": [
       "<Figure size 432x288 with 1 Axes>"
      ]
     },
     "metadata": {
      "needs_background": "light"
     },
     "output_type": "display_data"
    }
   ],
   "source": [
    "import matplotlib.pyplot as plt\n",
    "plt.xlabel(\"Features\")\n",
    "plt.ylabel(\"Coefficient in SVM\")\n",
    "plt.plot(selector.coef_[0][cols2])"
   ]
  },
  {
   "cell_type": "markdown",
   "metadata": {},
   "source": [
    "### removing all cols from xtrain and xtest if they are 0 contrib"
   ]
  },
  {
   "cell_type": "code",
   "execution_count": 32,
   "metadata": {},
   "outputs": [
    {
     "name": "stdout",
     "output_type": "stream",
     "text": [
      "(10000, 88894) (5000, 88894) 88894\n"
     ]
    },
    {
     "data": {
      "text/plain": [
       "array([ 1.81633664,  1.44988888,  1.38428774, ..., -0.90651226,\n",
       "       -0.91097974, -1.27331342])"
      ]
     },
     "execution_count": 32,
     "metadata": {},
     "output_type": "execute_result"
    }
   ],
   "source": [
    "X_train2 = X_train1[:,cols2]\n",
    "X_test2 = X_test1[:,cols2]\n",
    "y_train2 = y_train1\n",
    "y_test2 = y_test1\n",
    "m_train2 = m_train1\n",
    "m_test2 = m_test1\n",
    "coeff2 = selector.coef_[0][cols2]\n",
    "featureList2 = []\n",
    "for i in cols2:\n",
    "    featureList2.append(featureList_org[i])\n",
    "print(X_train2.shape,X_test2.shape,len(coeff2))\n",
    "coeff2"
   ]
  },
  {
   "cell_type": "code",
   "execution_count": 33,
   "metadata": {},
   "outputs": [
    {
     "name": "stdout",
     "output_type": "stream",
     "text": [
      "(88894, 1)\n",
      "2316\n"
     ]
    }
   ],
   "source": [
    "FC = X[:,cols2].sum(axis=0).reshape(-1,1)\n",
    "print(FC.shape)\n",
    "C = 0\n",
    "LOF1 = []\n",
    "for i in range(len(FC)):\n",
    "    if FC[i][0] > 50: #guess\n",
    "        C+=1\n",
    "        LOF1.append(i)\n",
    "print(len(LOF1))"
   ]
  },
  {
   "cell_type": "code",
   "execution_count": 34,
   "metadata": {},
   "outputs": [
    {
     "data": {
      "text/plain": [
       "2304"
      ]
     },
     "execution_count": 34,
     "metadata": {},
     "output_type": "execute_result"
    }
   ],
   "source": [
    "import math\n",
    "nLOF = int((math.sqrt(len(LOF1))))\n",
    "numLOF = nLOF * nLOF \n",
    "LOF = LOF1[:numLOF]\n",
    "len(LOF)"
   ]
  },
  {
   "cell_type": "code",
   "execution_count": 35,
   "metadata": {},
   "outputs": [
    {
     "name": "stdout",
     "output_type": "stream",
     "text": [
      "(10000, 2304) (5000, 2304) 2304\n"
     ]
    },
    {
     "data": {
      "text/plain": [
       "array([ 0.87980025,  0.87236088,  0.70979789, ..., -0.46716534,\n",
       "       -0.48223021, -0.48506692])"
      ]
     },
     "execution_count": 35,
     "metadata": {},
     "output_type": "execute_result"
    }
   ],
   "source": [
    "X_train = X_train2[:,LOF]\n",
    "X_test = X_test2[:,LOF]\n",
    "y_train = y_train2\n",
    "y_test = y_test2\n",
    "m_train = m_train2\n",
    "m_test = m_test2\n",
    "featureList3 = []\n",
    "for i in LOF:\n",
    "    featureList3.append(featureList2[i])\n",
    "coeff3 = coeff2[LOF]\n",
    "print(X_train.shape,X_test.shape,len(coeff3))\n",
    "coeff3"
   ]
  },
  {
   "cell_type": "code",
   "execution_count": 36,
   "metadata": {},
   "outputs": [
    {
     "name": "stdout",
     "output_type": "stream",
     "text": [
      "1329 975\n"
     ]
    }
   ],
   "source": [
    "p = n = 0\n",
    "for i in coeff3:\n",
    "    if i > 0:\n",
    "        p+=1\n",
    "    else:\n",
    "        n+=1\n",
    "print(p,n)"
   ]
  },
  {
   "cell_type": "code",
   "execution_count": 37,
   "metadata": {},
   "outputs": [
    {
     "data": {
      "text/plain": [
       "2304"
      ]
     },
     "execution_count": 37,
     "metadata": {},
     "output_type": "execute_result"
    }
   ],
   "source": [
    "p+n"
   ]
  },
  {
   "cell_type": "markdown",
   "metadata": {},
   "source": [
    "Save these"
   ]
  },
  {
   "cell_type": "markdown",
   "metadata": {},
   "source": [
    "HAD TO GO FOR SCIPY SPARSE ARRAY FOR CONVERTING TO ARRAY FOR SAVING X TRAIN N TEST"
   ]
  },
  {
   "cell_type": "code",
   "execution_count": 38,
   "metadata": {},
   "outputs": [],
   "source": [
    "import scipy"
   ]
  },
  {
   "cell_type": "code",
   "execution_count": 39,
   "metadata": {},
   "outputs": [],
   "source": [
    "X_train_S = scipy.sparse.csr_matrix.toarray(X_train)\n",
    "X_test_S = scipy.sparse.csr_matrix.toarray(X_test)"
   ]
  },
  {
   "cell_type": "markdown",
   "metadata": {},
   "source": [
    "# Reshape XTRAIN AND XTEST \n",
    "# Also reshape coeff and feats"
   ]
  },
  {
   "cell_type": "code",
   "execution_count": 40,
   "metadata": {},
   "outputs": [
    {
     "name": "stdout",
     "output_type": "stream",
     "text": [
      "(10000, 48, 48) (5000, 48, 48)\n"
     ]
    }
   ],
   "source": [
    "X_train_S = X_train_S.reshape(-1,nLOF,nLOF)\n",
    "X_test_S = X_test_S.reshape(-1,nLOF,nLOF)\n",
    "print(X_train_S.shape,X_test_S.shape)"
   ]
  },
  {
   "cell_type": "code",
   "execution_count": 41,
   "metadata": {},
   "outputs": [
    {
     "data": {
      "text/plain": [
       "(48, 48)"
      ]
     },
     "execution_count": 41,
     "metadata": {},
     "output_type": "execute_result"
    }
   ],
   "source": [
    "coeff3 = np.array(coeff3)\n",
    "coeff3 = coeff3.reshape(nLOF,nLOF)\n",
    "coeff3.shape"
   ]
  },
  {
   "cell_type": "code",
   "execution_count": 42,
   "metadata": {},
   "outputs": [
    {
     "data": {
      "text/plain": [
       "(48, 48)"
      ]
     },
     "execution_count": 42,
     "metadata": {},
     "output_type": "execute_result"
    }
   ],
   "source": [
    "featureList3 = np.array(featureList3)\n",
    "featureList3 = featureList3.reshape(nLOF,nLOF)\n",
    "featureList3.shape"
   ]
  },
  {
   "cell_type": "code",
   "execution_count": 43,
   "metadata": {},
   "outputs": [],
   "source": [
    "np.save('./DATA/X_train.npy',X_train_S)\n",
    "np.save('./DATA/X_test.npy',X_test_S)\n",
    "\n",
    "np.save('./DATA/y_train.npy',y_train)\n",
    "np.save('./DATA/y_test.npy',y_test)\n",
    "\n",
    "np.save('./DATA/meta_train.npy',m_train)\n",
    "np.save('./DATA/meta_test.npy',m_test)\n",
    "\n",
    "np.save('./DATA/coeff_features.npy',coeff3)\n",
    "\n",
    "np.save('./DATA/FeatureList.npy',featureList3)\n",
    "\n",
    "np.save('./DATA/chosenRows.npy',np.array(chosen))"
   ]
  },
  {
   "cell_type": "code",
   "execution_count": 44,
   "metadata": {},
   "outputs": [
    {
     "name": "stdout",
     "output_type": "stream",
     "text": [
      "DONE\n"
     ]
    }
   ],
   "source": [
    "print(\"DONE\")"
   ]
  },
  {
   "cell_type": "code",
   "execution_count": 45,
   "metadata": {},
   "outputs": [
    {
     "data": {
      "text/plain": [
       "(48, 48)"
      ]
     },
     "execution_count": 45,
     "metadata": {},
     "output_type": "execute_result"
    }
   ],
   "source": [
    "np.load('./DATA/FeatureList.npy').shape"
   ]
  },
  {
   "cell_type": "markdown",
   "metadata": {},
   "source": [
    "# TO WRITE\n",
    "\n",
    "Very similar to linear feature selection.\n",
    "\n",
    "But we only take 5000 random MAL and 10k BEN\n",
    "\n",
    "Reason why we take just 5k is to have a smaller dataset for easier working given that time constraint was big\n",
    "\n",
    "Major DIFF in Cell 33 and 34\n",
    "\n",
    "I find 2316 features that appear atleast 50 times in this 15k rows.\n",
    "\n",
    "I sqrt that to get 48.___ . So i take the first 48squared i.e 2304 features alone so I can get a perfect square for an image and drop the remaining 12 features.\n",
    "\n",
    "I save as 3d numpy array with 1st index showing row num and corresponding 2D array being the 48x48 numpy array of APK features."
   ]
  },
  {
   "cell_type": "code",
   "execution_count": null,
   "metadata": {},
   "outputs": [],
   "source": []
  }
 ],
 "metadata": {
  "kernelspec": {
   "display_name": "Python 3",
   "language": "python",
   "name": "python3"
  },
  "language_info": {
   "codemirror_mode": {
    "name": "ipython",
    "version": 3
   },
   "file_extension": ".py",
   "mimetype": "text/x-python",
   "name": "python",
   "nbconvert_exporter": "python",
   "pygments_lexer": "ipython3",
   "version": "3.7.9"
  }
 },
 "nbformat": 4,
 "nbformat_minor": 4
}
